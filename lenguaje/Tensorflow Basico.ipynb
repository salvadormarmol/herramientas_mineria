{
 "cells": [
  {
   "cell_type": "markdown",
   "metadata": {},
   "source": [
    "# Tensorflow\n",
    "\n",
    "## Conceptos básicos\n",
    "\n",
    "1. Se crea una sesión\n",
    "2. Se define un grafo computacional\n",
    "3. Se alimenta la información al grafo para recibir una salida\n",
    "\n",
    "![Grafo](grafo.png)"
   ]
  },
  {
   "cell_type": "code",
   "execution_count": 1,
   "metadata": {},
   "outputs": [],
   "source": [
    "import tensorflow as tf\n",
    "\n",
    "# Sólo informe sobre errores\n",
    "\n",
    "tf.logging.set_verbosity(tf.logging.ERROR)\n",
    "\n",
    "# Encapsula el ambiente para ejecutar el grafo\n",
    "\n",
    "session = tf.InteractiveSession() # interactivo\n",
    "# session = tf.Session() # Implementación\n"
   ]
  },
  {
   "cell_type": "code",
   "execution_count": 2,
   "metadata": {},
   "outputs": [],
   "source": [
    "# Construye el grafo\n",
    "\n",
    "a = tf.placeholder(tf.float32)\n",
    "b = tf.placeholder(tf.float32)\n",
    "\n",
    "k = tf.constant(1.0)\n",
    "\n",
    "c = tf.add(a,b)\n",
    "d = tf.add(b,k)\n",
    "\n",
    "e = tf.multiply(c,d)"
   ]
  },
  {
   "cell_type": "code",
   "execution_count": 3,
   "metadata": {},
   "outputs": [
    {
     "data": {
      "text/plain": [
       "6.0"
      ]
     },
     "execution_count": 3,
     "metadata": {},
     "output_type": "execute_result"
    }
   ],
   "source": [
    "session.run(e, feed_dict={a:2, b:1})"
   ]
  },
  {
   "cell_type": "code",
   "execution_count": 4,
   "metadata": {},
   "outputs": [
    {
     "data": {
      "text/plain": [
       "3.0"
      ]
     },
     "execution_count": 4,
     "metadata": {},
     "output_type": "execute_result"
    }
   ],
   "source": [
    "session.run(c, feed_dict={a:2, b:1})"
   ]
  },
  {
   "cell_type": "code",
   "execution_count": 5,
   "metadata": {},
   "outputs": [
    {
     "data": {
      "text/plain": [
       "[6.0, 3.0]"
      ]
     },
     "execution_count": 5,
     "metadata": {},
     "output_type": "execute_result"
    }
   ],
   "source": [
    "session.run([e,c], feed_dict={a:2, b:1})"
   ]
  },
  {
   "cell_type": "code",
   "execution_count": 6,
   "metadata": {},
   "outputs": [
    {
     "data": {
      "text/plain": [
       "[array([16.,  6.,  6.], dtype=float32), array([4., 3., 2.], dtype=float32)]"
      ]
     },
     "execution_count": 6,
     "metadata": {},
     "output_type": "execute_result"
    }
   ],
   "source": [
    "session.run([e,c], feed_dict={a:[1,2,0], b:[3,1,2]})"
   ]
  },
  {
   "cell_type": "code",
   "execution_count": 7,
   "metadata": {},
   "outputs": [
    {
     "data": {
      "text/plain": [
       "[array([[16.,  6.,  6.],\n",
       "        [ 6.,  6., 16.]], dtype=float32), array([[4., 3., 2.],\n",
       "        [2., 3., 4.]], dtype=float32)]"
      ]
     },
     "execution_count": 7,
     "metadata": {},
     "output_type": "execute_result"
    }
   ],
   "source": [
    "session.run([e,c], feed_dict={a:[[1,2,0],[0,2,1]], b:[[3,1,2],[2,1,3]]})"
   ]
  },
  {
   "cell_type": "code",
   "execution_count": 8,
   "metadata": {},
   "outputs": [],
   "source": [
    "from pandas import read_csv\n",
    "from pandas import get_dummies\n",
    "\n",
    "df = read_csv(\"abandono.csv\")\n",
    "\n",
    "values = df.values\n",
    "# ensure all data is float\n",
    "values = values.astype('float32')\n",
    "\n",
    "observaciones = values[:,1:8]\n",
    "etiquetas = values[:,8].reshape(-1,1)\n",
    "\n",
    "observaciones = session.run(tf.nn.l2_normalize(observaciones,1))"
   ]
  },
  {
   "cell_type": "code",
   "execution_count": 9,
   "metadata": {},
   "outputs": [],
   "source": [
    "# construyendo el grafo de un perceptrón\n",
    "\n",
    "n_nodos_entrada = observaciones.shape[1] \n",
    "n_nodos_salida = etiquetas.shape[1]\n",
    "\n",
    "x = tf.placeholder(tf.float32, (None, n_nodos_entrada))\n",
    "y = tf.placeholder(tf.float32, (None, n_nodos_salida))\n",
    "\n",
    "W = tf.Variable(tf.random_normal((n_nodos_entrada, n_nodos_salida)))\n",
    "b = tf.Variable(tf.zeros(n_nodos_salida))\n",
    "\n",
    "salida = tf.nn.sigmoid(tf.matmul(x,W) + b)\n",
    "\n",
    "costo = tf.reduce_mean(\n",
    "    tf.nn.sigmoid_cross_entropy_with_logits(\n",
    "        logits=salida, labels=y\n",
    "    )\n",
    ")\n",
    "\n",
    "tasa_de_aprendizaje = 0.1\n",
    "\n",
    "#optimizer = tf.train.GradientDescentOptimizer(tasa_de_aprendizaje).minimize(costo)\n",
    "\n",
    "optimizer = tf.train.AdamOptimizer(tasa_de_aprendizaje).minimize(costo)"
   ]
  },
  {
   "cell_type": "code",
   "execution_count": 10,
   "metadata": {
    "scrolled": true
   },
   "outputs": [],
   "source": [
    "\n",
    "tf.global_variables_initializer().run()\n",
    "\n",
    "for _ in range(2000):\n",
    "    _,w,c=session.run([optimizer, W, costo],feed_dict={x:observaciones,y:etiquetas})\n"
   ]
  },
  {
   "cell_type": "code",
   "execution_count": 11,
   "metadata": {},
   "outputs": [
    {
     "name": "stdout",
     "output_type": "stream",
     "text": [
      "0.70625\n"
     ]
    }
   ],
   "source": [
    "#calculamos que tan certero es nuestro modelo\n",
    "\n",
    "y_ = tf.placeholder(tf.float32, (None, n_nodos_salida))\n",
    "\n",
    "predicciones_correctas = tf.equal(salida>.5, y_>.5)\n",
    "\n",
    "certeza = tf.reduce_mean(tf.cast(predicciones_correctas, tf.float32))\n",
    "\n",
    "print(session.run(certeza, feed_dict={x: observaciones, y_: etiquetas}))"
   ]
  },
  {
   "cell_type": "code",
   "execution_count": null,
   "metadata": {
    "collapsed": true
   },
   "outputs": [],
   "source": []
  }
 ],
 "metadata": {
  "kernelspec": {
   "display_name": "Python 3",
   "language": "python",
   "name": "python3"
  },
  "language_info": {
   "codemirror_mode": {
    "name": "ipython",
    "version": 3
   },
   "file_extension": ".py",
   "mimetype": "text/x-python",
   "name": "python",
   "nbconvert_exporter": "python",
   "pygments_lexer": "ipython3",
   "version": "3.6.8"
  }
 },
 "nbformat": 4,
 "nbformat_minor": 2
}
