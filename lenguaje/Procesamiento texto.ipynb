{
 "cells": [
  {
   "cell_type": "code",
   "execution_count": 1,
   "metadata": {},
   "outputs": [],
   "source": [
    "import numpy as np\n",
    "import itertools"
   ]
  },
  {
   "cell_type": "code",
   "execution_count": 9,
   "metadata": {},
   "outputs": [
    {
     "name": "stdout",
     "output_type": "stream",
     "text": [
      "sam is red\n",
      "hannah not red\n",
      "hannah is green\n",
      "bob is green\n",
      "bob not red\n",
      "sam not green\n",
      "sarah is red\n",
      "sarah not green\n"
     ]
    }
   ],
   "source": [
    "sentences = '''\n",
    "sam is red\n",
    "hannah not red\n",
    "hannah is green\n",
    "bob is green\n",
    "bob not red\n",
    "sam not green\n",
    "sarah is red\n",
    "sarah not green'''.strip() #.split('\\n')\n",
    "print(sentences)"
   ]
  },
  {
   "cell_type": "code",
   "execution_count": 2,
   "metadata": {},
   "outputs": [
    {
     "name": "stdout",
     "output_type": "stream",
     "text": [
      "['sam is red', 'hannah not red', 'hannah is green', 'bob is green', 'bob not red', 'sam not green', 'sarah is red', 'sarah not green']\n",
      "[[0]\n",
      " [1]\n",
      " [1]\n",
      " [1]\n",
      " [1]\n",
      " [0]\n",
      " [0]\n",
      " [0]]\n"
     ]
    }
   ],
   "source": [
    "sentences = '''\n",
    "sam is red\n",
    "hannah not red\n",
    "hannah is green\n",
    "bob is green\n",
    "bob not red\n",
    "sam not green\n",
    "sarah is red\n",
    "sarah not green'''.strip().split('\\n')\n",
    "is_green = np.asarray([[0, 1, 1, 1, 1, 0, 0, 0]], dtype='int32').T\n",
    "\n",
    "print(sentences)\n",
    "print(is_green)"
   ]
  },
  {
   "cell_type": "code",
   "execution_count": 3,
   "metadata": {},
   "outputs": [
    {
     "name": "stdout",
     "output_type": "stream",
     "text": [
      "{'red', 'hannah', 'not', 'sam', 'bob', 'is', 'sarah', 'green'}\n"
     ]
    }
   ],
   "source": [
    "lemma = lambda x: x.strip().lower().split(' ')\n",
    "sentences_lemmatized = [lemma(sentence) for sentence in sentences]\n",
    "words = set(itertools.chain(*sentences_lemmatized))\n",
    "print(words)"
   ]
  },
  {
   "cell_type": "code",
   "execution_count": 4,
   "metadata": {},
   "outputs": [
    {
     "name": "stdout",
     "output_type": "stream",
     "text": [
      "{'red': 0, 'hannah': 1, 'not': 2, 'sam': 3, 'bob': 4, 'is': 5, 'sarah': 6, 'green': 7}\n",
      "['red', 'hannah', 'not', 'sam', 'bob', 'is', 'sarah', 'green']\n"
     ]
    }
   ],
   "source": [
    "# diccionarios para convertir palabras a enteros y vice versa\n",
    "word2idx = dict((v, i) for i, v in enumerate(words))\n",
    "idx2word = list(words)\n",
    "\n",
    "print(word2idx)\n",
    "print(idx2word)"
   ]
  },
  {
   "cell_type": "code",
   "execution_count": 5,
   "metadata": {},
   "outputs": [
    {
     "name": "stdout",
     "output_type": "stream",
     "text": [
      "[[3, 5, 0], [1, 2, 0], [1, 5, 7], [4, 5, 7], [4, 2, 0], [3, 2, 7], [6, 5, 0], [6, 2, 7]]\n",
      "[[3 5 0]\n",
      " [1 2 0]\n",
      " [1 5 7]\n",
      " [4 5 7]\n",
      " [4 2 0]\n",
      " [3 2 7]\n",
      " [6 5 0]\n",
      " [6 2 7]]\n"
     ]
    }
   ],
   "source": [
    "# Convierte el enunciado en un arreglo numpy\n",
    "to_idx = lambda x: [word2idx[word] for word in x]\n",
    "sentences_idx = [to_idx(sentence) for sentence in sentences_lemmatized]\n",
    "sentences_array = np.asarray(sentences_idx, dtype='int32')\n",
    "print(sentences_idx)\n",
    "print(sentences_array)"
   ]
  },
  {
   "cell_type": "code",
   "execution_count": null,
   "metadata": {
    "collapsed": true
   },
   "outputs": [],
   "source": []
  }
 ],
 "metadata": {
  "kernelspec": {
   "display_name": "Python 3",
   "language": "python",
   "name": "python3"
  },
  "language_info": {
   "codemirror_mode": {
    "name": "ipython",
    "version": 3
   },
   "file_extension": ".py",
   "mimetype": "text/x-python",
   "name": "python",
   "nbconvert_exporter": "python",
   "pygments_lexer": "ipython3",
   "version": "3.6.8"
  }
 },
 "nbformat": 4,
 "nbformat_minor": 2
}
