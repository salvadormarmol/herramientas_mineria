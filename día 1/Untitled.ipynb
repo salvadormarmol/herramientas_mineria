{
 "cells": [
  {
   "cell_type": "code",
   "execution_count": 2,
   "metadata": {},
   "outputs": [],
   "source": [
    "import urllib\n",
    "# If you are using Python 3+, import urllib instead of urllib2\n",
    "\n",
    "import json "
   ]
  },
  {
   "cell_type": "code",
   "execution_count": 29,
   "metadata": {},
   "outputs": [],
   "source": [
    "data =  {\n",
    "\n",
    "        \"Inputs\": {\n",
    "\n",
    "                \"input1\":\n",
    "                {\n",
    "                    \"ColumnNames\": [\"Class\", \"sepal-length\", \"sepal-width\", \"petal-length\", \"petal-width\"],\n",
    "                    \"Values\": [ [ \"2\", \"4.6\", \"3.6\", \"1\", \"0.2\" ], [ \"2\", \"7.2\", \"3.6\", \"6.1\", \"2.5\" ], ]\n",
    "                },        },\n",
    "            \"GlobalParameters\": {\n",
    "}\n",
    "    }\n",
    "\n",
    "body = str.encode(json.dumps(data))"
   ]
  },
  {
   "cell_type": "code",
   "execution_count": 30,
   "metadata": {},
   "outputs": [],
   "source": [
    "url = 'https://ussouthcentral.services.azureml.net/workspaces/eb880ad6bcef4d5786c6feffd9716672/services/efdffc42cf89422dbbe41a5547210b4f/execute?api-version=2.0&details=true'\n",
    "api_key = 'VKd13B8Oy1tX0BrqX1p5zDgfARE523nCE6hSpyIBc9w410Oi/VWKRzMyPL+NXhfHatv8u918u5qcvLYOEOdhGw==' # Replace this with the API key for the web service\n",
    "headers = {'Content-Type':'application/json', 'Authorization':('Bearer '+ api_key)}\n",
    "\n",
    "req = urllib.request.Request(url, body, headers) "
   ]
  },
  {
   "cell_type": "code",
   "execution_count": 31,
   "metadata": {},
   "outputs": [
    {
     "name": "stdout",
     "output_type": "stream",
     "text": [
      "b'{\"Results\":{\"output1\":{\"type\":\"table\",\"value\":{\"ColumnNames\":[\"Class\",\"sepal-length\",\"sepal-width\",\"petal-length\",\"petal-width\",\"Scored Labels\",\"Scored Probabilities\"],\"ColumnTypes\":[\"Double\",\"Double\",\"Double\",\"Double\",\"Double\",\"Double\",\"Double\"],\"Values\":[[\"2\",\"4.6\",\"3.6\",\"1\",\"0.2\",\"0\",\"0.0841983258724213\"],[\"2\",\"7.2\",\"3.6\",\"6.1\",\"2.5\",\"1\",\"0.938817799091339\"]]}}}}'\n"
     ]
    }
   ],
   "source": [
    "try:\n",
    "    response = urllib.request.urlopen(req)\n",
    "\n",
    "    # If you are using Python 3+, replace urllib2 with urllib.request in the above code:\n",
    "    # req = urllib.request.Request(url, body, headers) \n",
    "    # response = urllib.request.urlopen(req)\n",
    "\n",
    "    result = response.read()\n",
    "    print(result) \n",
    "    \n",
    "except error:\n",
    "    print(\"The request failed with status code: \" + str(error.code))\n",
    "\n",
    "    # Print the headers - they include the requert ID and the timestamp, which are useful for debugging the failure\n",
    "    print(error.info())\n",
    "\n",
    "    print(json.loads(error.read()))  "
   ]
  },
  {
   "cell_type": "code",
   "execution_count": null,
   "metadata": {},
   "outputs": [],
   "source": []
  }
 ],
 "metadata": {
  "kernelspec": {
   "display_name": "Python 3",
   "language": "python",
   "name": "python3"
  },
  "language_info": {
   "codemirror_mode": {
    "name": "ipython",
    "version": 3
   },
   "file_extension": ".py",
   "mimetype": "text/x-python",
   "name": "python",
   "nbconvert_exporter": "python",
   "pygments_lexer": "ipython3",
   "version": "3.6.8"
  }
 },
 "nbformat": 4,
 "nbformat_minor": 2
}
